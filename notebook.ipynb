{
 "cells": [
  {
   "cell_type": "code",
   "execution_count": 9,
   "metadata": {},
   "outputs": [
    {
     "name": "stderr",
     "output_type": "stream",
     "text": [
      "d:\\anaconda\\installed\\envs\\chatbot\\Lib\\site-packages\\tqdm\\auto.py:21: TqdmWarning: IProgress not found. Please update jupyter and ipywidgets. See https://ipywidgets.readthedocs.io/en/stable/user_install.html\n",
      "  from .autonotebook import tqdm as notebook_tqdm\n"
     ]
    },
    {
     "data": {
      "text/plain": [
       "True"
      ]
     },
     "execution_count": 9,
     "metadata": {},
     "output_type": "execute_result"
    }
   ],
   "source": [
    "from langchain_google_genai import GoogleGenerativeAI\n",
    "from langchain_community.embeddings import HuggingFaceInferenceAPIEmbeddings\n",
    "import os\n",
    "from dotenv import load_dotenv\n",
    "from langchain import OpenAI\n",
    "import openai\n",
    "from langchain.text_splitter import CharacterTextSplitter\n",
    "from langchain_community.vectorstores import Milvus\n",
    "from langchain_core.documents import Document\n",
    "from langchain.chains import RetrievalQA \n",
    "from langchain.memory import ConversationBufferWindowMemory\n",
    "from langchain import PromptTemplate\n",
    "from langchain.memory import PostgresChatMessageHistory\n",
    "\n",
    "load_dotenv()\n"
   ]
  },
  {
   "cell_type": "markdown",
   "metadata": {},
   "source": [
    "## LLM"
   ]
  },
  {
   "cell_type": "markdown",
   "metadata": {},
   "source": [
    "### Google Gemini"
   ]
  },
  {
   "cell_type": "code",
   "execution_count": 3,
   "metadata": {},
   "outputs": [],
   "source": [
    "\n",
    "# generative model\n",
    "llm = GoogleGenerativeAI(model=\"gemini-pro\", google_api_key=os.getenv(\"GOOGLE_API_KEY\") , temperature=0.6)"
   ]
  },
  {
   "cell_type": "markdown",
   "metadata": {},
   "source": [
    "### OpenAI LLM"
   ]
  },
  {
   "cell_type": "code",
   "execution_count": 30,
   "metadata": {},
   "outputs": [],
   "source": [
    "openai.api_key = os.getenv('OPENAI_API_KEY')\n",
    "llm=OpenAI(temperature=0.5)\n",
    "print(llm.model_name)"
   ]
  },
  {
   "cell_type": "markdown",
   "metadata": {},
   "source": [
    "## Embeddings"
   ]
  },
  {
   "cell_type": "code",
   "execution_count": 4,
   "metadata": {},
   "outputs": [],
   "source": [
    "# embeddings\n",
    "embeddings = HuggingFaceInferenceAPIEmbeddings(\n",
    "    api_key=os.getenv(\"HUGGINGFACE_API_KEY\"), model_name=\"sentence-transformers/all-MiniLM-l6-v2\"\n",
    ")"
   ]
  },
  {
   "cell_type": "markdown",
   "metadata": {},
   "source": [
    "## Data Processing"
   ]
  },
  {
   "cell_type": "code",
   "execution_count": 101,
   "metadata": {},
   "outputs": [],
   "source": [
    "# loader = UnstructuredURLLoader(urls=urls)\n",
    "data = \"\"\"\n",
    "****** \n",
    "Contact details of Human Customer service representative from AudioPro Company:\n",
    " email : contact@AudioPro.in\n",
    " mobile number : 3636565642\n",
    "\n",
    "******\n",
    "Details of Product : SonicWave 2000\n",
    "   - Over-ear wireless headphones with active noise cancellation.\n",
    "   - Crystal-clear audio quality with deep bass and crisp highs.\n",
    "   - Up to 30 hours of battery life on a single charge.\n",
    "   - Adjustable headband and memory foam ear cushions for comfort.\n",
    "   - Built-in microphone for hands-free calls.\n",
    "   - price 11151 rupees\n",
    "   - discount 10% \n",
    "\n",
    "******\n",
    "   \n",
    "   \n",
    "Details of Product : SonicWave 2000\n",
    "   - Over-ear wireless headphones with active noise cancellation.\n",
    "   - Crystal-clear audio quality with deep bass and crisp highs.\n",
    "   - Up to 30 hours of battery life on a single charge.\n",
    "   - Adjustable headband and memory foam ear cushions for comfort.\n",
    "   - Built-in microphone for hands-free calls.\n",
    "   - price 11151 rupees\n",
    "   - discount 10%\n",
    "\n",
    "******\n",
    " Details of Product: BassBlast Pro\n",
    "   - On-ear wired headphones designed for bass enthusiasts.\n",
    "   - Powerful bass-driven sound with enhanced low frequencies.\n",
    "   - Foldable design for easy portability and storage.\n",
    "   - Adjustable padded headband for a comfortable fit.\n",
    "   - Tangle-free flat cable with in-line remote and microphone.\n",
    "   - price 1500 rupees\n",
    "   - discount 15%\n",
    "   - festival offer\n",
    "******\n",
    " Details of Product: AeroFit 360\n",
    "   - Sports in-ear Bluetooth headphones for active lifestyles.\n",
    "   - Sweat-resistant and ergonomic design for a secure fit.\n",
    "   - Immersive sound with emphasis on mids and highs.\n",
    "   - Up to 10 hours of playback time with quick charge feature.\n",
    "   - Ear hooks and multiple ear tip sizes included.\n",
    "   - price 12000 rupees\n",
    "   - discount 5%\n",
    "\n",
    "******\n",
    " Details of Product: StudioElite 500\n",
    "   - Premium studio monitor headphones for professional audio work.\n",
    "   - Accurate and balanced sound reproduction for critical listening.\n",
    "   - Over-ear design with plush memory foam earpads.\n",
    "   - Detachable coiled cable and foldable design for convenience.\n",
    "   - Gold-plated connectors for optimal signal transmission.\n",
    "   - price 50005 rupees\n",
    "   - discount 80%\n",
    "   - festival offer\n",
    "\n",
    "******\n",
    " Details of Product: RetroVibe 800\n",
    "   - Vintage-style wireless headphones with a classic look.\n",
    "   - Warm and nostalgic sound signature with modern technology.\n",
    "   - Up to 25 hours of wireless playback and optional wired mode.\n",
    "   - Adjustable metal sliders and faux-leather ear cushions.\n",
    "   - On-ear touch controls for music playback and calls.\n",
    "   - price 20151 rupees\n",
    "   - discount 20%\n",
    "******\n",
    " Details of Product: GamerXtreme 300\n",
    "   - Gaming headphones with immersive 3D audio experience.\n",
    "   - Surround sound and positional audio for competitive gaming.\n",
    "   - RGB lighting effects with customizable color options.\n",
    "   - Noise-canceling microphone with flip-up mute functionality.\n",
    "   - Compatible with PC, consoles, and mobile devices.\n",
    "   - price 25000 rupees\n",
    "   - discount 30%\n",
    "******\n",
    " Details of Product: KidsJamz 100\n",
    "   - Child-friendly wired headphones designed for young users.\n",
    "   - Volume-limited to protect young ears (85dB max volume).\n",
    "   - Fun and colorful designs with adjustable headband.\n",
    "   - Lightweight and durable construction for kids on the go.\n",
    "   - Built-in shareport for sharing audio with a friend.\n",
    "   - price 200 rupees\n",
    "   - discount 15%\n",
    "******\n",
    " Details of Product: TravelMate 600\n",
    "   - Compact and foldable wireless headphones for travelers.\n",
    "   - Active noise cancellation for a peaceful travel experience.\n",
    "   - Clear voice calls with dual beamforming microphones.\n",
    "   - Up to 20 hours of playback and quick charge feature.\n",
    "   - Comes with a hard-shell travel case.\n",
    "   - price 600 rupees\n",
    "   - discount 2%\n",
    "******\n",
    " Details of Product: AudiophileX 9000\n",
    "   - High-fidelity open-back headphones for audiophiles.\n",
    "   - Wide soundstage and exceptional detail in music playback.\n",
    "   - Premium materials with genuine leather and aluminum accents.\n",
    "   - Detachable oxygen-free copper cable with balanced connectors.\n",
    "   - Handcrafted design for an exquisite audio experience.\n",
    "   - price 90000 rupees\n",
    "   - discount 70%\n",
    "******\n",
    " Details of Product: ProComm 200\n",
    "    - Communication headphones for professional use.\n",
    "    - Clear and precise audio for conference calls and meetings.\n",
    "    - Noise-canceling microphone with flexible boom arm.\n",
    "    - Adjustable headband and comfortable ear cushions.\n",
    "    - USB and 3.5mm connectivity options.\n",
    "    - price 6000 rupees\n",
    "   - discount 15%\n",
    "******\n",
    " Details of Product: elite buds 5k \n",
    "    - most elite buds you have ever seen.\n",
    "    - Clear and precise audio for conference calls and meetings.\n",
    "    - Noise-canceling microphone with flexible boom arm.\n",
    "    - Adjustable headband and comfortable ear cushions.\n",
    "    - USB and 3.5mm connectivity options.\n",
    "    - price 100000 rupees\n",
    "   - discount 25%\n",
    "\"\"\"\n"
   ]
  },
  {
   "cell_type": "markdown",
   "metadata": {},
   "source": [
    "#### splitting data into chunks\n",
    "so that each chunk can later be converted into vector.\n",
    "- to achieve maximumn performance I have decided to allow overflowing chunks. \n",
    "- Using this method each chunk have only one product detail\n",
    "- this is to make sure that product details are not cut in halves and spread into two vector otherwise similarity search wont work Properly\n",
    "\n",
    "  ie. if user ask about only one product then only the vector which have the name of product would be returned. it would be really hard to infer which features are of what product if the genere is same and product details is splitted in two vectors."
   ]
  },
  {
   "cell_type": "code",
   "execution_count": null,
   "metadata": {},
   "outputs": [],
   "source": [
    "# split data\n",
    "# text_splitter = RecursiveCharacterTextSplitter(\n",
    "#     separators=['******', '\\n', '.', ','\n",
    "#                 ],\n",
    "#     chunk_size=1000\n",
    "# )\n",
    "\n",
    "\n",
    "text_splitter = CharacterTextSplitter(\n",
    "    separator = \"******\",\n",
    "    chunk_size=900,\n",
    "    chunk_overlap=0\n",
    ")\n"
   ]
  },
  {
   "cell_type": "code",
   "execution_count": 102,
   "metadata": {},
   "outputs": [],
   "source": [
    "dataDocument = [Document(page_content=data, metadata={\"namespace\": \"audioPro\"})]\n",
    "\n",
    "docs = text_splitter.split_documents(dataDocument)\n"
   ]
  },
  {
   "cell_type": "markdown",
   "metadata": {},
   "source": [
    "each chunk have only one product"
   ]
  },
  {
   "cell_type": "code",
   "execution_count": 110,
   "metadata": {},
   "outputs": [
    {
     "name": "stdout",
     "output_type": "stream",
     "text": [
      "Details of Product: BassBlast Pro\n",
      "   - On-ear wired headphones designed for bass enthusiasts.\n",
      "   - Powerful bass-driven sound with enhanced low frequencies.\n",
      "   - Foldable design for easy portability and storage.\n",
      "   - Adjustable padded headband for a comfortable fit.\n",
      "   - Tangle-free flat cable with in-line remote and microphone.\n",
      "   - price 1500 rupees\n",
      "   - discount 15%\n",
      "   - festival offer\n"
     ]
    }
   ],
   "source": [
    "print(docs[3].page_content)"
   ]
  },
  {
   "cell_type": "markdown",
   "metadata": {},
   "source": [
    "## vector database"
   ]
  },
  {
   "cell_type": "markdown",
   "metadata": {},
   "source": [
    "### creating vector database from  document"
   ]
  },
  {
   "cell_type": "code",
   "execution_count": 115,
   "metadata": {},
   "outputs": [],
   "source": [
    "vector_db = Milvus.from_documents(\n",
    "    docs,\n",
    "    embeddings,\n",
    "    collection_name=\"audioPro\",\n",
    "    connection_args={\n",
    "        \"uri\":os.getenv(\"ZILLIZ_CLOUD_URI\") ,\n",
    "        \"user\":os.getenv(\"ZILLIZ_CLOUD_USERNAME\") ,\n",
    "        \"password\":os.getenv(\"ZILLIZ_CLOUD_PASSWORD\") ,\n",
    "        # \"token\": ZILLIZ_CLOUD_API_KEY,  # API key, for serverless clusters which can be used as replacements for user and password\n",
    "        \"secure\": True,\n",
    "    },\n",
    ")"
   ]
  },
  {
   "cell_type": "markdown",
   "metadata": {},
   "source": [
    "### loading vector database"
   ]
  },
  {
   "cell_type": "code",
   "execution_count": 9,
   "metadata": {},
   "outputs": [],
   "source": [
    "vector_db = Milvus(\n",
    "    embeddings,\n",
    "    collection_name=\"audioPro\",\n",
    "    connection_args={\n",
    "    \"uri\":os.getenv(\"ZILLIZ_CLOUD_URI\") ,\n",
    "    \"user\":os.getenv(\"ZILLIZ_CLOUD_USERNAME\") ,\n",
    "    \"password\":os.getenv(\"ZILLIZ_CLOUD_PASSWORD\") ,\n",
    "    # \"token\": ZILLIZ_CLOUD_API_KEY,  # API key, for serverless clusters which can be used as replacements for user and password\n",
    "    \"secure\": True,\n",
    "    },\n",
    ")"
   ]
  },
  {
   "cell_type": "markdown",
   "metadata": {},
   "source": [
    "similarity search would reaturn two or three most relevant vectors"
   ]
  },
  {
   "cell_type": "code",
   "execution_count": 10,
   "metadata": {},
   "outputs": [],
   "source": [
    "query = \"what is discount on elite buds\"\n",
    "docs = vector_db.similarity_search(query)"
   ]
  },
  {
   "cell_type": "code",
   "execution_count": 12,
   "metadata": {},
   "outputs": [
    {
     "name": "stdout",
     "output_type": "stream",
     "text": [
      "\n",
      "=========================================================================================\n",
      "\n",
      "**Model: ProComm 200**\n",
      "    - Communication headphones for professional use.\n",
      "    - Clear and precise audio for conference calls and meetings.\n",
      "    - Noise-canceling microphone with flexible boom arm.\n",
      "    - Adjustable headband and comfortable ear cushions.\n",
      "    - USB and 3.5mm connectivity options.\n",
      "    - price 6000 rupees\n",
      "   - discount 15%\n",
      "\n",
      " **Model: elite buds 5k **\n",
      "    - most elite buds you have ever seen.\n",
      "    - Clear and precise audio for conference calls and meetings.\n",
      "    - Noise-canceling microphone with flexible boom arm.\n",
      "    - Adjustable headband and comfortable ear cushions.\n",
      "    - USB and 3.5mm connectivity options.\n",
      "    - price 100000 rupees\n",
      "   - discount 25%\n",
      "\n",
      "=========================================================================================\n",
      "\n",
      "**Model: BassBlast Pro**\n",
      "   - On-ear wired headphones designed for bass enthusiasts.\n",
      "   - Powerful bass-driven sound with enhanced low frequencies.\n",
      "   - Foldable design for easy portability and storage.\n",
      "   - Adjustable padded headband for a comfortable fit.\n",
      "   - Tangle-free flat cable with in-line remote and microphone.\n",
      "   - price 1500 rupees\n",
      "   - discount 15%\n",
      "   - festival offer\n",
      "\n",
      " **Model: AeroFit 360**\n",
      "   - Sports in-ear Bluetooth headphones for active lifestyles.\n",
      "   - Sweat-resistant and ergonomic design for a secure fit.\n",
      "   - Immersive sound with emphasis on mids and highs.\n",
      "   - Up to 10 hours of playback time with quick charge feature.\n",
      "   - Ear hooks and multiple ear tip sizes included.\n",
      "   - price 12000 rupees\n",
      "   - discount 5%\n",
      "\n",
      "=========================================================================================\n",
      "\n",
      "**Model: StudioElite 500**\n",
      "   - Premium studio monitor headphones for professional audio work.\n",
      "   - Accurate and balanced sound reproduction for critical listening.\n",
      "   - Over-ear design with plush memory foam earpads.\n",
      "   - Detachable coiled cable and foldable design for convenience.\n",
      "   - Gold-plated connectors for optimal signal transmission.\n",
      "   - price 50005 rupees\n",
      "   - discount 80%\n",
      "   - festival offer\n",
      "\n",
      " **Model: RetroVibe 800**\n",
      "   - Vintage-style wireless headphones with a classic look.\n",
      "   - Warm and nostalgic sound signature with modern technology.\n",
      "   - Up to 25 hours of wireless playback and optional wired mode.\n",
      "   - Adjustable metal sliders and faux-leather ear cushions.\n",
      "   - On-ear touch controls for music playback and calls.\n",
      "   - price 20151 rupees\n",
      "   - discount 20%\n",
      "\n",
      "=========================================================================================\n",
      "\n",
      "** Contact details of Human Customer service representative from AudioPro Company:**\n",
      "  ** email : contact@AudioPro.in **\n",
      "  ** mobile number : 3636565642\n",
      "\n",
      "**Headphone Products from AudioPro Company:**\n",
      "\n",
      " **Model: SonicWave 2000**\n",
      "   - Over-ear wireless headphones with active noise cancellation.\n",
      "   - Crystal-clear audio quality with deep bass and crisp highs.\n",
      "   - Up to 30 hours of battery life on a single charge.\n",
      "   - Adjustable headband and memory foam ear cushions for comfort.\n",
      "   - Built-in microphone for hands-free calls.\n",
      "   - price 11151 rupees\n",
      "   - discount 10% **Model: SonicWave 2000**\n",
      "   - Over-ear wireless headphones with active noise cancellation.\n",
      "   - Crystal-clear audio quality with deep bass and crisp highs.\n",
      "   - Up to 30 hours of battery life on a single charge.\n",
      "   - Adjustable headband and memory foam ear cushions for comfort.\n",
      "   - Built-in microphone for hands-free calls.\n",
      "   - price 11151 rupees\n",
      "   - discount 10%\n"
     ]
    }
   ],
   "source": [
    "for i in range(len(docs)):\n",
    "    print(\"\\n=========================================================================================\\n\")\n",
    "    print(docs[i].page_content)"
   ]
  },
  {
   "cell_type": "markdown",
   "metadata": {},
   "source": [
    "## Chain"
   ]
  },
  {
   "cell_type": "markdown",
   "metadata": {},
   "source": [
    "### V1 : creating language chain for quastion and answer"
   ]
  },
  {
   "cell_type": "code",
   "execution_count": 31,
   "metadata": {},
   "outputs": [],
   "source": [
    "chain = RetrievalQA.from_llm(llm=llm, retriever=vector_db.as_retriever())\n",
    "query = \"what is the price of elite buds after discount\"\n",
    "result = chain({\"query\": query})\n",
    "print(result)"
   ]
  },
  {
   "cell_type": "markdown",
   "metadata": {},
   "source": [
    "### V2 : adding memory to chain"
   ]
  },
  {
   "cell_type": "code",
   "execution_count": 35,
   "metadata": {},
   "outputs": [
    {
     "name": "stdout",
     "output_type": "stream",
     "text": [
      "[]\n"
     ]
    }
   ],
   "source": [
    "\n",
    "\n",
    "memory = ConversationBufferWindowMemory(k=3 , memory_key=\"history\" , input_key=\"question\")\n",
    "# memory = ConversationBufferMemory(memory_key=\"history\",input_key=\"question\")\n",
    "template = \"\"\"\n",
    "Use the following context (delimited by <ctx></ctx>) and the chat history (delimited by <hs></hs>) to answer the question:\n",
    "------\n",
    "<ctx>\n",
    "{context}\n",
    "</ctx>\n",
    "------\n",
    "<hs>\n",
    "{history}\n",
    "</hs>\n",
    "------\n",
    "{question}\n",
    "Answer:\n",
    "\"\"\"\n",
    "prompt = PromptTemplate(\n",
    "    input_variables=[\"history\", \"context\", \"question\"],\n",
    "    template=template,\n",
    ")\n",
    "\n",
    "qa = RetrievalQA.from_chain_type(\n",
    "    llm=llm,\n",
    "    chain_type='stuff',\n",
    "    retriever=vector_db.as_retriever(),\n",
    "    verbose=True,\n",
    "    chain_type_kwargs={\n",
    "        \"verbose\": True,\n",
    "        \"prompt\": prompt,\n",
    "        \"memory\": memory\n",
    "    }\n",
    ")"
   ]
  },
  {
   "cell_type": "markdown",
   "metadata": {},
   "source": [
    "### V3 : Memory with postgres"
   ]
  },
  {
   "cell_type": "markdown",
   "metadata": {},
   "source": [
    "creating postgres history and integrating it with memory"
   ]
  },
  {
   "cell_type": "code",
   "execution_count": 82,
   "metadata": {},
   "outputs": [],
   "source": [
    "history = PostgresChatMessageHistory(\n",
    "    connection_string=os.getenv(\"POSTGRES_CONNECTION_STRING\"),\n",
    "    session_id=\"audioPro_user_test\",\n",
    "    \n",
    ")\n",
    "\n",
    "\n",
    "memory_postgres = ConversationBufferWindowMemory(k=3 , memory_key=\"history\" , chat_memory= history, input_key=\"question\")\n",
    "\n"
   ]
  },
  {
   "cell_type": "code",
   "execution_count": 83,
   "metadata": {},
   "outputs": [],
   "source": [
    "template = \"\"\"\n",
    "Use the following context (delimited by <ctx></ctx>) and the chat history (delimited by <hs></hs>) to answer the question:\n",
    "------\n",
    "<ctx>\n",
    "{context}\n",
    "</ctx>\n",
    "------\n",
    "<hs>\n",
    "{history}\n",
    "</hs>\n",
    "------\n",
    "{question}\n",
    "Answer:\n",
    "\"\"\"\n",
    "prompt = PromptTemplate(\n",
    "    input_variables=[\"history\", \"context\", \"question\"],\n",
    "    template=template,\n",
    ")\n",
    "\n",
    "posgres_qa = RetrievalQA.from_chain_type(\n",
    "    llm=llm,\n",
    "    chain_type='stuff',\n",
    "    retriever=vector_db.as_retriever(),\n",
    "    verbose=True,\n",
    "    chain_type_kwargs={\n",
    "        \"verbose\": True,\n",
    "        \"prompt\": prompt,\n",
    "        \"memory\": memory_postgres\n",
    "    }\n",
    ")"
   ]
  },
  {
   "cell_type": "code",
   "execution_count": 87,
   "metadata": {},
   "outputs": [
    {
     "name": "stdout",
     "output_type": "stream",
     "text": [
      "\n",
      "\n",
      "\u001b[1m> Entering new RetrievalQA chain...\u001b[0m\n",
      "\n",
      "\n",
      "\u001b[1m> Entering new StuffDocumentsChain chain...\u001b[0m\n",
      "\n",
      "\n",
      "\u001b[1m> Entering new LLMChain chain...\u001b[0m\n",
      "Prompt after formatting:\n",
      "\u001b[32;1m\u001b[1;3m\n",
      "Use the following context (delimited by <ctx></ctx>) and the chat history (delimited by <hs></hs>) to answer the question:\n",
      "------\n",
      "<ctx>\n",
      "**Model: ProComm 200**\n",
      "    - Communication headphones for professional use.\n",
      "    - Clear and precise audio for conference calls and meetings.\n",
      "    - Noise-canceling microphone with flexible boom arm.\n",
      "    - Adjustable headband and comfortable ear cushions.\n",
      "    - USB and 3.5mm connectivity options.\n",
      "    - price 6000 rupees\n",
      "   - discount 15%\n",
      "\n",
      " **Model: elite buds 5k **\n",
      "    - most elite buds you have ever seen.\n",
      "    - Clear and precise audio for conference calls and meetings.\n",
      "    - Noise-canceling microphone with flexible boom arm.\n",
      "    - Adjustable headband and comfortable ear cushions.\n",
      "    - USB and 3.5mm connectivity options.\n",
      "    - price 100000 rupees\n",
      "   - discount 25%\n",
      "\n",
      "**Model: StudioElite 500**\n",
      "   - Premium studio monitor headphones for professional audio work.\n",
      "   - Accurate and balanced sound reproduction for critical listening.\n",
      "   - Over-ear design with plush memory foam earpads.\n",
      "   - Detachable coiled cable and foldable design for convenience.\n",
      "   - Gold-plated connectors for optimal signal transmission.\n",
      "   - price 50005 rupees\n",
      "   - discount 80%\n",
      "   - festival offer\n",
      "\n",
      " **Model: RetroVibe 800**\n",
      "   - Vintage-style wireless headphones with a classic look.\n",
      "   - Warm and nostalgic sound signature with modern technology.\n",
      "   - Up to 25 hours of wireless playback and optional wired mode.\n",
      "   - Adjustable metal sliders and faux-leather ear cushions.\n",
      "   - On-ear touch controls for music playback and calls.\n",
      "   - price 20151 rupees\n",
      "   - discount 20%\n",
      "\n",
      "**Model: GamerXtreme 300**\n",
      "   - Gaming headphones with immersive 3D audio experience.\n",
      "   - Surround sound and positional audio for competitive gaming.\n",
      "   - RGB lighting effects with customizable color options.\n",
      "   - Noise-canceling microphone with flip-up mute functionality.\n",
      "   - Compatible with PC, consoles, and mobile devices.\n",
      "   - price 25000 rupees\n",
      "   - discount 30%\n",
      "\n",
      " **Model: KidsJamz 100**\n",
      "   - Child-friendly wired headphones designed for young users.\n",
      "   - Volume-limited to protect young ears (85dB max volume).\n",
      "   - Fun and colorful designs with adjustable headband.\n",
      "   - Lightweight and durable construction for kids on the go.\n",
      "   - Built-in shareport for sharing audio with a friend.\n",
      "   - price 200 rupees\n",
      "   - discount 15%\n",
      "\n",
      "**Model: BassBlast Pro**\n",
      "   - On-ear wired headphones designed for bass enthusiasts.\n",
      "   - Powerful bass-driven sound with enhanced low frequencies.\n",
      "   - Foldable design for easy portability and storage.\n",
      "   - Adjustable padded headband for a comfortable fit.\n",
      "   - Tangle-free flat cable with in-line remote and microphone.\n",
      "   - price 1500 rupees\n",
      "   - discount 15%\n",
      "   - festival offer\n",
      "\n",
      " **Model: AeroFit 360**\n",
      "   - Sports in-ear Bluetooth headphones for active lifestyles.\n",
      "   - Sweat-resistant and ergonomic design for a secure fit.\n",
      "   - Immersive sound with emphasis on mids and highs.\n",
      "   - Up to 10 hours of playback time with quick charge feature.\n",
      "   - Ear hooks and multiple ear tip sizes included.\n",
      "   - price 12000 rupees\n",
      "   - discount 5%\n",
      "</ctx>\n",
      "------\n",
      "<hs>\n",
      "Human: how much does it cost ?\n",
      "AI: The cost of the SonicWave 2000 headphones from AudioPro Company is 11,151 rupees.\n",
      "</hs>\n",
      "------\n",
      "what are you selling ?\n",
      "Answer:\n",
      "\u001b[0m\n",
      "\n",
      "\u001b[1m> Finished chain.\u001b[0m\n",
      "\n",
      "\u001b[1m> Finished chain.\u001b[0m\n",
      "\n",
      "\u001b[1m> Finished chain.\u001b[0m\n",
      "{'query': 'what are you selling ?', 'result': '\\nWe are selling a variety of headphones, including the ProComm 200, elite buds 5k, StudioElite 500, RetroVibe 800, GamerXtreme 300, KidsJamz 100, BassBlast Pro, and AeroFit 360.'}\n"
     ]
    }
   ],
   "source": [
    "# k=3 , memory_key=\"history\"\n",
    "res = posgres_qa(\"what are you selling ?\")\n",
    "print(res)"
   ]
  },
  {
   "cell_type": "code",
   "execution_count": 88,
   "metadata": {},
   "outputs": [
    {
     "name": "stdout",
     "output_type": "stream",
     "text": [
      "\n",
      "\n",
      "\u001b[1m> Entering new RetrievalQA chain...\u001b[0m\n",
      "\n",
      "\n",
      "\u001b[1m> Entering new StuffDocumentsChain chain...\u001b[0m\n",
      "\n",
      "\n",
      "\u001b[1m> Entering new LLMChain chain...\u001b[0m\n",
      "Prompt after formatting:\n",
      "\u001b[32;1m\u001b[1;3m\n",
      "Use the following context (delimited by <ctx></ctx>) and the chat history (delimited by <hs></hs>) to answer the question:\n",
      "------\n",
      "<ctx>\n",
      "**Model: ProComm 200**\n",
      "    - Communication headphones for professional use.\n",
      "    - Clear and precise audio for conference calls and meetings.\n",
      "    - Noise-canceling microphone with flexible boom arm.\n",
      "    - Adjustable headband and comfortable ear cushions.\n",
      "    - USB and 3.5mm connectivity options.\n",
      "    - price 6000 rupees\n",
      "   - discount 15%\n",
      "\n",
      " **Model: elite buds 5k **\n",
      "    - most elite buds you have ever seen.\n",
      "    - Clear and precise audio for conference calls and meetings.\n",
      "    - Noise-canceling microphone with flexible boom arm.\n",
      "    - Adjustable headband and comfortable ear cushions.\n",
      "    - USB and 3.5mm connectivity options.\n",
      "    - price 100000 rupees\n",
      "   - discount 25%\n",
      "\n",
      "**Model: BassBlast Pro**\n",
      "   - On-ear wired headphones designed for bass enthusiasts.\n",
      "   - Powerful bass-driven sound with enhanced low frequencies.\n",
      "   - Foldable design for easy portability and storage.\n",
      "   - Adjustable padded headband for a comfortable fit.\n",
      "   - Tangle-free flat cable with in-line remote and microphone.\n",
      "   - price 1500 rupees\n",
      "   - discount 15%\n",
      "   - festival offer\n",
      "\n",
      " **Model: AeroFit 360**\n",
      "   - Sports in-ear Bluetooth headphones for active lifestyles.\n",
      "   - Sweat-resistant and ergonomic design for a secure fit.\n",
      "   - Immersive sound with emphasis on mids and highs.\n",
      "   - Up to 10 hours of playback time with quick charge feature.\n",
      "   - Ear hooks and multiple ear tip sizes included.\n",
      "   - price 12000 rupees\n",
      "   - discount 5%\n",
      "\n",
      "**Model: StudioElite 500**\n",
      "   - Premium studio monitor headphones for professional audio work.\n",
      "   - Accurate and balanced sound reproduction for critical listening.\n",
      "   - Over-ear design with plush memory foam earpads.\n",
      "   - Detachable coiled cable and foldable design for convenience.\n",
      "   - Gold-plated connectors for optimal signal transmission.\n",
      "   - price 50005 rupees\n",
      "   - discount 80%\n",
      "   - festival offer\n",
      "\n",
      " **Model: RetroVibe 800**\n",
      "   - Vintage-style wireless headphones with a classic look.\n",
      "   - Warm and nostalgic sound signature with modern technology.\n",
      "   - Up to 25 hours of wireless playback and optional wired mode.\n",
      "   - Adjustable metal sliders and faux-leather ear cushions.\n",
      "   - On-ear touch controls for music playback and calls.\n",
      "   - price 20151 rupees\n",
      "   - discount 20%\n",
      "\n",
      "** Contact details of Human Customer service representative from AudioPro Company:**\n",
      "  ** email : contact@AudioPro.in **\n",
      "  ** mobile number : 3636565642\n",
      "\n",
      "**Headphone Products from AudioPro Company:**\n",
      "\n",
      " **Model: SonicWave 2000**\n",
      "   - Over-ear wireless headphones with active noise cancellation.\n",
      "   - Crystal-clear audio quality with deep bass and crisp highs.\n",
      "   - Up to 30 hours of battery life on a single charge.\n",
      "   - Adjustable headband and memory foam ear cushions for comfort.\n",
      "   - Built-in microphone for hands-free calls.\n",
      "   - price 11151 rupees\n",
      "   - discount 10% **Model: SonicWave 2000**\n",
      "   - Over-ear wireless headphones with active noise cancellation.\n",
      "   - Crystal-clear audio quality with deep bass and crisp highs.\n",
      "   - Up to 30 hours of battery life on a single charge.\n",
      "   - Adjustable headband and memory foam ear cushions for comfort.\n",
      "   - Built-in microphone for hands-free calls.\n",
      "   - price 11151 rupees\n",
      "   - discount 10%\n",
      "</ctx>\n",
      "------\n",
      "<hs>\n",
      "Human: how much does it cost ?\n",
      "AI: The cost of the SonicWave 2000 headphones from AudioPro Company is 11,151 rupees.\n",
      "Human: what are you selling ?\n",
      "AI: \n",
      "We are selling a variety of headphones, including the ProComm 200, elite buds 5k, StudioElite 500, RetroVibe 800, GamerXtreme 300, KidsJamz 100, BassBlast Pro, and AeroFit 360.\n",
      "</hs>\n",
      "------\n",
      "what are the features of ProComm 200\n",
      "Answer:\n",
      "\u001b[0m\n",
      "\n",
      "\u001b[1m> Finished chain.\u001b[0m\n",
      "\n",
      "\u001b[1m> Finished chain.\u001b[0m\n",
      "\n",
      "\u001b[1m> Finished chain.\u001b[0m\n",
      "{'query': 'what are the features of ProComm 200', 'result': 'The features of ProComm 200 include communication headphones for professional use, clear and precise audio for conference calls and meetings, a noise-canceling microphone with a flexible boom arm, adjustable headband and comfortable ear cushions, USB and 3.5mm connectivity options, a price of 6000 rupees, and a 15% discount.'}\n"
     ]
    }
   ],
   "source": [
    "res = posgres_qa(\"what are the features of ProComm 200\")\n",
    "print(res[\"result\"])"
   ]
  },
  {
   "cell_type": "code",
   "execution_count": 89,
   "metadata": {},
   "outputs": [
    {
     "name": "stdout",
     "output_type": "stream",
     "text": [
      "\n",
      "\n",
      "\u001b[1m> Entering new RetrievalQA chain...\u001b[0m\n",
      "\n",
      "\n",
      "\u001b[1m> Entering new StuffDocumentsChain chain...\u001b[0m\n",
      "\n",
      "\n",
      "\u001b[1m> Entering new LLMChain chain...\u001b[0m\n",
      "Prompt after formatting:\n",
      "\u001b[32;1m\u001b[1;3m\n",
      "Use the following context (delimited by <ctx></ctx>) and the chat history (delimited by <hs></hs>) to answer the question:\n",
      "------\n",
      "<ctx>\n",
      "**Model: GamerXtreme 300**\n",
      "   - Gaming headphones with immersive 3D audio experience.\n",
      "   - Surround sound and positional audio for competitive gaming.\n",
      "   - RGB lighting effects with customizable color options.\n",
      "   - Noise-canceling microphone with flip-up mute functionality.\n",
      "   - Compatible with PC, consoles, and mobile devices.\n",
      "   - price 25000 rupees\n",
      "   - discount 30%\n",
      "\n",
      " **Model: KidsJamz 100**\n",
      "   - Child-friendly wired headphones designed for young users.\n",
      "   - Volume-limited to protect young ears (85dB max volume).\n",
      "   - Fun and colorful designs with adjustable headband.\n",
      "   - Lightweight and durable construction for kids on the go.\n",
      "   - Built-in shareport for sharing audio with a friend.\n",
      "   - price 200 rupees\n",
      "   - discount 15%\n",
      "\n",
      "**Model: ProComm 200**\n",
      "    - Communication headphones for professional use.\n",
      "    - Clear and precise audio for conference calls and meetings.\n",
      "    - Noise-canceling microphone with flexible boom arm.\n",
      "    - Adjustable headband and comfortable ear cushions.\n",
      "    - USB and 3.5mm connectivity options.\n",
      "    - price 6000 rupees\n",
      "   - discount 15%\n",
      "\n",
      " **Model: elite buds 5k **\n",
      "    - most elite buds you have ever seen.\n",
      "    - Clear and precise audio for conference calls and meetings.\n",
      "    - Noise-canceling microphone with flexible boom arm.\n",
      "    - Adjustable headband and comfortable ear cushions.\n",
      "    - USB and 3.5mm connectivity options.\n",
      "    - price 100000 rupees\n",
      "   - discount 25%\n",
      "\n",
      "**Model: BassBlast Pro**\n",
      "   - On-ear wired headphones designed for bass enthusiasts.\n",
      "   - Powerful bass-driven sound with enhanced low frequencies.\n",
      "   - Foldable design for easy portability and storage.\n",
      "   - Adjustable padded headband for a comfortable fit.\n",
      "   - Tangle-free flat cable with in-line remote and microphone.\n",
      "   - price 1500 rupees\n",
      "   - discount 15%\n",
      "   - festival offer\n",
      "\n",
      " **Model: AeroFit 360**\n",
      "   - Sports in-ear Bluetooth headphones for active lifestyles.\n",
      "   - Sweat-resistant and ergonomic design for a secure fit.\n",
      "   - Immersive sound with emphasis on mids and highs.\n",
      "   - Up to 10 hours of playback time with quick charge feature.\n",
      "   - Ear hooks and multiple ear tip sizes included.\n",
      "   - price 12000 rupees\n",
      "   - discount 5%\n",
      "\n",
      "**Model: StudioElite 500**\n",
      "   - Premium studio monitor headphones for professional audio work.\n",
      "   - Accurate and balanced sound reproduction for critical listening.\n",
      "   - Over-ear design with plush memory foam earpads.\n",
      "   - Detachable coiled cable and foldable design for convenience.\n",
      "   - Gold-plated connectors for optimal signal transmission.\n",
      "   - price 50005 rupees\n",
      "   - discount 80%\n",
      "   - festival offer\n",
      "\n",
      " **Model: RetroVibe 800**\n",
      "   - Vintage-style wireless headphones with a classic look.\n",
      "   - Warm and nostalgic sound signature with modern technology.\n",
      "   - Up to 25 hours of wireless playback and optional wired mode.\n",
      "   - Adjustable metal sliders and faux-leather ear cushions.\n",
      "   - On-ear touch controls for music playback and calls.\n",
      "   - price 20151 rupees\n",
      "   - discount 20%\n",
      "</ctx>\n",
      "------\n",
      "<hs>\n",
      "Human: how much does it cost ?\n",
      "AI: The cost of the SonicWave 2000 headphones from AudioPro Company is 11,151 rupees.\n",
      "Human: what are you selling ?\n",
      "AI: \n",
      "We are selling a variety of headphones, including the ProComm 200, elite buds 5k, StudioElite 500, RetroVibe 800, GamerXtreme 300, KidsJamz 100, BassBlast Pro, and AeroFit 360.\n",
      "Human: what are the features of ProComm 200\n",
      "AI: The features of ProComm 200 include communication headphones for professional use, clear and precise audio for conference calls and meetings, a noise-canceling microphone with a flexible boom arm, adjustable headband and comfortable ear cushions, USB and 3.5mm connectivity options, a price of 6000 rupees, and a 15% discount.\n",
      "</hs>\n",
      "------\n",
      "what is price of it ?\n",
      "Answer:\n",
      "\u001b[0m\n",
      "\n",
      "\u001b[1m> Finished chain.\u001b[0m\n",
      "\n",
      "\u001b[1m> Finished chain.\u001b[0m\n",
      "\n",
      "\u001b[1m> Finished chain.\u001b[0m\n",
      "{'query': 'what is price of it ?', 'result': 'The price of the ProComm 200 headphones is 6000 rupees, with a 15% discount.'}\n"
     ]
    }
   ],
   "source": [
    "res = posgres_qa(\"what is price of it ?\")\n",
    "print(res)"
   ]
  },
  {
   "cell_type": "code",
   "execution_count": 90,
   "metadata": {},
   "outputs": [
    {
     "data": {
      "text/plain": [
       "[HumanMessage(content='what are you selling ?'),\n",
       " AIMessage(content='\\nWe are selling a variety of headphones, including the ProComm 200, elite buds 5k, StudioElite 500, RetroVibe 800, GamerXtreme 300, KidsJamz 100, BassBlast Pro, and AeroFit 360.'),\n",
       " HumanMessage(content='what are the features of ProComm 200'),\n",
       " AIMessage(content='The features of ProComm 200 include communication headphones for professional use, clear and precise audio for conference calls and meetings, a noise-canceling microphone with a flexible boom arm, adjustable headband and comfortable ear cushions, USB and 3.5mm connectivity options, a price of 6000 rupees, and a 15% discount.'),\n",
       " HumanMessage(content='what is price of it ?'),\n",
       " AIMessage(content='The price of the ProComm 200 headphones is 6000 rupees, with a 15% discount.')]"
      ]
     },
     "execution_count": 90,
     "metadata": {},
     "output_type": "execute_result"
    }
   ],
   "source": [
    "memory_postgres.buffer_as_messages"
   ]
  },
  {
   "cell_type": "code",
   "execution_count": 91,
   "metadata": {},
   "outputs": [
    {
     "data": {
      "text/plain": [
       "[HumanMessage(content='how much does it cost ?'),\n",
       " AIMessage(content='The cost of the SonicWave 2000 headphones from AudioPro Company is 11,151 rupees.'),\n",
       " HumanMessage(content='what are you selling ?'),\n",
       " AIMessage(content='\\nWe are selling a variety of headphones, including the ProComm 200, elite buds 5k, StudioElite 500, RetroVibe 800, GamerXtreme 300, KidsJamz 100, BassBlast Pro, and AeroFit 360.'),\n",
       " HumanMessage(content='what are the features of ProComm 200'),\n",
       " AIMessage(content='The features of ProComm 200 include communication headphones for professional use, clear and precise audio for conference calls and meetings, a noise-canceling microphone with a flexible boom arm, adjustable headband and comfortable ear cushions, USB and 3.5mm connectivity options, a price of 6000 rupees, and a 15% discount.'),\n",
       " HumanMessage(content='what is price of it ?'),\n",
       " AIMessage(content='The price of the ProComm 200 headphones is 6000 rupees, with a 15% discount.')]"
      ]
     },
     "execution_count": 91,
     "metadata": {},
     "output_type": "execute_result"
    }
   ],
   "source": [
    "history.messages"
   ]
  },
  {
   "cell_type": "code",
   "execution_count": null,
   "metadata": {},
   "outputs": [],
   "source": [
    "\n"
   ]
  },
  {
   "cell_type": "code",
   "execution_count": null,
   "metadata": {},
   "outputs": [],
   "source": []
  }
 ],
 "metadata": {
  "kernelspec": {
   "display_name": "chatbot",
   "language": "python",
   "name": "python3"
  },
  "language_info": {
   "codemirror_mode": {
    "name": "ipython",
    "version": 3
   },
   "file_extension": ".py",
   "mimetype": "text/x-python",
   "name": "python",
   "nbconvert_exporter": "python",
   "pygments_lexer": "ipython3",
   "version": "3.11.5"
  }
 },
 "nbformat": 4,
 "nbformat_minor": 2
}
